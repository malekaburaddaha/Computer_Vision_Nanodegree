{
 "cells": [
  {
   "cell_type": "markdown",
   "metadata": {
    "collapsed": true
   },
   "source": [
    "# Identity Matrix\n",
    "\n",
    "Write a function called identity_matrix that outputs an identity matrix of size n.\n",
    "\n",
    "INPUT\n",
    "* n - size of the Identity matrix\n",
    "\n",
    "OUPUT\n",
    "* identity matrix as a list of lists\n",
    "\n",
    "\n",
    "HINTS\n",
    "* nested for loops will be helpful\n",
    "* the one values are always on the diagonal. To access diagonal values in a list of lists will occur where i = j\n",
    "* whenever i does not equal j, the value in the matrix should be 0"
   ]
  },
  {
   "cell_type": "code",
   "execution_count": 17,
   "metadata": {},
   "outputs": [],
   "source": [
    "def identity_matrix(n):\n",
    "    identity = []\n",
    "    for i in range(0,n):\n",
    "        new_row = []\n",
    "        for j in range(0,n):\n",
    "            if i==j:\n",
    "                new_row.append(1)\n",
    "            else:\n",
    "                new_row.append(0)\n",
    "        identity.append(new_row)       \n",
    "    \n",
    "    \n",
    "    \n",
    "    # TODO: Write a nested for loop to iterate over the rows and\n",
    "    # columns of the identity matrix. Remember that identity\n",
    "    # matrices are square so they have the same number of rows\n",
    "    # and columns\n",
    "    \n",
    "    # Make sure to assign 1 to the diagonal values and 0 everywhere\n",
    "    # else\n",
    "    \n",
    "    return identity"
   ]
  },
  {
   "cell_type": "code",
   "execution_count": 18,
   "metadata": {},
   "outputs": [],
   "source": [
    "# TODO: Run this cell to see if your answers are as expected\n",
    "\n",
    "assert identity_matrix(1) == [[1]]\n",
    "\n",
    "assert identity_matrix(2) == [[1, 0], \n",
    "                             [0, 1]]\n",
    "\n",
    "assert identity_matrix(3) == [[1, 0, 0],\n",
    "                             [0, 1, 0],\n",
    "                             [0, 0, 1]]\n",
    "\n",
    "assert identity_matrix(4) == [[1, 0, 0, 0],\n",
    "                             [0, 1, 0, 0],\n",
    "                             [0, 0, 1, 0],\n",
    "                             [0, 0, 0, 1]]"
   ]
  },
  {
   "cell_type": "markdown",
   "metadata": {},
   "source": [
    "# Multiplication with the Identity Matrix\n",
    "\n",
    "Copy your matrix multiplication function in the code cell below. Try multiplying a matrix with an identity matrix to prove to yourself that the identity matrix is analogous to multiplyin a scalar by one."
   ]
  },
  {
   "cell_type": "code",
   "execution_count": 24,
   "metadata": {},
   "outputs": [],
   "source": [
    "# TODO: Copy your matrix multiplication function and any other helper\n",
    "# funcitons here from the previous exercises\n",
    "\n",
    "\n",
    "def transpose(matrix):\n",
    "    matrix_transpose = []\n",
    "    for j in range(len(matrix[0])):\n",
    "        new_row = []\n",
    "        for i in range(len(matrix)):\n",
    "            new_row.append(matrix[i][j])\n",
    "        matrix_transpose.append(new_row)\n",
    "    return matrix_transpose\n",
    "\n",
    "\n",
    "def dot_product(vector_one, vector_two):\n",
    "    results = 0\n",
    "    for i in range(len(vector_one)):\n",
    "        results += vector_one[i] * vector_two[i] \n",
    "    return results\n",
    "\n",
    "\n",
    "\n",
    "def matrix_multiplication(matrixA, matrixB):\n",
    "    product = []\n",
    "    \n",
    "    \n",
    "    ## TODO: Take the transpose of matrixB and store the result\n",
    "    ##       in a new variable\n",
    "    t_matb = transpose(matrixB)\n",
    "    \n",
    "    ## TODO: Use a nested for loop to iterate through the rows\n",
    "    ## of matrix A and the rows of the tranpose of matrix B\n",
    "    for i in range(len(matrixA)):\n",
    "        new_row = []\n",
    "        for j in range(len(t_matb)):\n",
    "            new_row.append(dot_product(matrixA[i], t_matb[j]))\n",
    "    ## TODO: Calculate the dot product between each row of matrix A\n",
    "    ##         with each row in the transpose of matrix B\n",
    "        product.append(new_row) \n",
    "    ## TODO: As you calculate the results inside your for loops,\n",
    "    ##       store the results in the product variable\n",
    "        \n",
    "    \n",
    "    ## TODO:\n",
    "    return product"
   ]
  },
  {
   "cell_type": "code",
   "execution_count": 26,
   "metadata": {},
   "outputs": [],
   "source": [
    "# TODO: Run this cell to see if your results are as expected.\n",
    "\n",
    "m = [[5, 9, 2, 4],\n",
    "     [3, 8, 5, 6],\n",
    "     [1, 0, 0, 15]]\n",
    "\n",
    "assert matrix_multiplication(m, identity_matrix(4)) == m\n",
    "assert matrix_multiplication(identity_matrix(3), m) == m"
   ]
  },
  {
   "cell_type": "code",
   "execution_count": null,
   "metadata": {},
   "outputs": [],
   "source": []
  }
 ],
 "metadata": {
  "kernelspec": {
   "display_name": "Python 3",
   "language": "python",
   "name": "python3"
  },
  "language_info": {
   "codemirror_mode": {
    "name": "ipython",
    "version": 3
   },
   "file_extension": ".py",
   "mimetype": "text/x-python",
   "name": "python",
   "nbconvert_exporter": "python",
   "pygments_lexer": "ipython3",
   "version": "3.6.3"
  }
 },
 "nbformat": 4,
 "nbformat_minor": 2
}
